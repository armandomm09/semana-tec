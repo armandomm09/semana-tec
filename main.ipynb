{
 "cells": [
  {
   "cell_type": "code",
   "execution_count": 1,
   "metadata": {},
   "outputs": [],
   "source": [
    "from mongoengine import *\n",
    "from dotenv import load_dotenv\n",
    "import os\n",
    "import requests\n",
    "import pandas as pd\n",
    "connect(\"reefscape_predictor\") \n",
    "\n",
    "load_dotenv()\n",
    "\n",
    "tba_api_key = os.getenv(\"TBA_API_KEY\")\n"
   ]
  },
  {
   "cell_type": "code",
   "execution_count": 15,
   "metadata": {},
   "outputs": [],
   "source": [
    "class Team(Document):\n",
    "    event = StringField(required=True)\n",
    "    team = IntField(required=True)\n",
    "    epa = FloatField(required=True)\n",
    "    total_points = FloatField(required=True)\n",
    "    auto_points = FloatField(required=True)\n",
    "    teleop_points = FloatField(required=True)\n",
    "    endgame_points = FloatField(required=True)\n",
    "    rank = IntField(required=True)\n",
    "    winrate = FloatField(required=True)\n",
    "    coral_count = FloatField()\n",
    "    l4_count = FloatField()\n",
    "    l3_count = FloatField()\n",
    "    algae_count = FloatField()\n",
    "    opr = FloatField()\n",
    "    ccwm = FloatField()\n",
    "    \n",
    "    def __str__(self):\n",
    "        return f'''Team {self.team}\n",
    "                    EPA: {self.epa}\n",
    "                    Total Points: {self.total_points}\n",
    "                    Auto Points: {self.auto_points}\n",
    "                    Teleop Points: {self.teleop_points}\n",
    "                    Endgame Points: {self.endgame_points}\n",
    "                    Global Rank: {self.rank}\n",
    "                    Winrate: {self.winrate}\n",
    "                    OPR: {self.opr}\n",
    "                    CCWM: {self.ccwm}\n",
    "                    '''"
   ]
  },
  {
   "cell_type": "code",
   "execution_count": 16,
   "metadata": {},
   "outputs": [],
   "source": [
    "\n",
    "class Event(Document):\n",
    "    name = StringField(required=True)\n",
    "    key = StringField(required=True)\n",
    "    week = IntField(required=True)\n",
    "    oprs = DictField(required=True)\n",
    "    coprs = DictField(required=True)\n",
    "    \n",
    "    def __str__(self):\n",
    "        return f'''\n",
    "                {self.name} week {self.week}... {self.key}\n",
    "                '''\n",
    "    "
   ]
  },
  {
   "cell_type": "code",
   "execution_count": 17,
   "metadata": {},
   "outputs": [],
   "source": [
    "class Match(Document):\n",
    "    key = StringField(required=True)\n",
    "    red_alliance = ListField(ReferenceField(Team), required=True, min_length=3, max_length=3)\n",
    "    blue_alliance = ListField(ReferenceField(Team), required=True, min_length=3, max_length=3)\n",
    "    blue_score = FloatField(required=True)\n",
    "    red_score = FloatField(required=True)\n",
    "\n",
    "    def __str__(self):\n",
    "        return f'''Match:\n",
    "                    Red Alliance: {[team.team for team in self.red_alliance]} scored {self.red_score}\n",
    "                    Blue Alliance: {[team.team for team in self.blue_alliance]} scored {self.blue_score}\n",
    "                    Winner was {\"red\" if self.red_score > self.blue_score else \"blue\"}                    \n",
    "                '''"
   ]
  },
  {
   "cell_type": "code",
   "execution_count": 18,
   "metadata": {},
   "outputs": [],
   "source": [
    "def get_all_season_events():\n",
    "    try:\n",
    "        \n",
    "        req = requests.get(\n",
    "            \"https://www.thebluealliance.com/api/v3/events/2025\",\n",
    "            {\"X-TBA-Auth-Key\": tba_api_key},\n",
    "        )\n",
    "        \n",
    "        data = req.json()\n",
    "        \n",
    "        return data\n",
    "    except requests.ConnectionError as e:\n",
    "        print(e)\n",
    "        \n",
    "events = get_all_season_events()\n"
   ]
  },
  {
   "cell_type": "code",
   "execution_count": 19,
   "metadata": {},
   "outputs": [],
   "source": [
    "def get_oprs(event_key: str):\n",
    "    try:\n",
    "        req = requests.get(f\"https://www.thebluealliance.com/api/v3/event/{event_key}/oprs\",  {\"X-TBA-Auth-Key\": tba_api_key})\n",
    "        \n",
    "        oprs = req.json()\n",
    "        \n",
    "        req = requests.get(f\"https://www.thebluealliance.com/api/v3/event/{event_key}/coprs\",  {\"X-TBA-Auth-Key\": tba_api_key})\n",
    "        \n",
    "        coprs = req.json()\n",
    "        \n",
    "        return oprs, coprs\n",
    "    except requests.ConnectionError as e:\n",
    "        print(e)\n",
    "        "
   ]
  },
  {
   "cell_type": "code",
   "execution_count": 91,
   "metadata": {},
   "outputs": [],
   "source": [
    "def save_event(event_key):\n",
    "    if len(Event.objects(key=event_key)) > 0:\n",
    "        return Event.objects(key=event_key)[0]\n",
    "    \n",
    "    oprs, coprs = get_oprs(event_key)\n",
    "    \n",
    "    res = requests.get(\"https://www.thebluealliance.com/api/v3/event/2025mxto\", {\"X-TBA-Auth-Key\": tba_api_key})\n",
    "    \n",
    "    response = res.json()\n",
    "    print(response[\"week\"])\n",
    "    event_obj = Event(\n",
    "                    week=response[\"week\"],\n",
    "                    name=response[\"name\"],\n",
    "                    key=response[\"key\"],\n",
    "                    oprs=oprs,\n",
    "                    coprs=coprs,\n",
    "                )\n",
    "    # print(event_obj)\n",
    "    event_obj.save()\n",
    "    "
   ]
  },
  {
   "cell_type": "code",
   "execution_count": null,
   "metadata": {},
   "outputs": [],
   "source": [
    "count = 0\n",
    "for event in events:\n",
    "    week: int = event[\"week\"]\n",
    "    # print(type(week))\n",
    "    # print(week)\n",
    "\n",
    "    if week is not None:\n",
    "        if week < 3:\n",
    "            oprs, coprs = get_oprs(event[\"key\"])\n",
    "            if len(oprs) > 0 and len(coprs) > 0:\n",
    "                # print(event[\"key\"], week, \"\\n\")\n",
    "                event_obj = Event(\n",
    "                    week=event[\"week\"],\n",
    "                    name=event[\"name\"],\n",
    "                    key=event[\"key\"],\n",
    "                    oprs=oprs,\n",
    "                    coprs=coprs,\n",
    "                )\n",
    "                event_obj.save()\n",
    "                count += 1\n",
    "        else:\n",
    "            print(event[\"key\"], week)\n",
    "\n",
    "    else:\n",
    "        print(event[\"key\"], week)\n",
    "\n",
    "print(\"COUNT\", count)\n",
    "# if week < 4:\n",
    "#     event_obj = Event(week = event[\"week\"], name=event[\"name\"], key=event[\"key\"])\n",
    "#     event_obj.save()"
   ]
  },
  {
   "cell_type": "code",
   "execution_count": 21,
   "metadata": {},
   "outputs": [
    {
     "name": "stdout",
     "output_type": "stream",
     "text": [
      "95\n"
     ]
    }
   ],
   "source": [
    "print(len(Event.objects()))\n"
   ]
  },
  {
   "cell_type": "code",
   "execution_count": 22,
   "metadata": {},
   "outputs": [],
   "source": [
    "def get_events_match_keys(event_key:str):\n",
    "    try:\n",
    "        req = requests.get(f\"https://www.thebluealliance.com/api/v3/event/{event_key}/matches/keys\", \n",
    "                           {\"X-TBA-Auth-Key\": tba_api_key})\n",
    "        # print(req.json())\n",
    "        return req.json()\n",
    "        \n",
    "    except requests.ConnectionError as e:\n",
    "        print(f\"Error fetching {event_key} keys: \\n{e}\")"
   ]
  },
  {
   "cell_type": "code",
   "execution_count": 23,
   "metadata": {},
   "outputs": [
    {
     "name": "stdout",
     "output_type": "stream",
     "text": [
      "6.793968856165202\n"
     ]
    }
   ],
   "source": [
    "# print(Event.objects(key=\"2025mxle\")[0].oprs[\"oprs\"][\"frc2283\"])\n",
    "print(Event.objects(key=\"2025mxle\")[0].coprs[\"Total Algae Count\"][\"frc4731\"])"
   ]
  },
  {
   "cell_type": "code",
   "execution_count": 96,
   "metadata": {},
   "outputs": [],
   "source": [
    "\n",
    "\n",
    "def get_team_info(team_number: int, event_key: str):\n",
    "    mongo_team: list = Team.objects(team=team_number, event=event_key)\n",
    "    if len(mongo_team) > 0:\n",
    "        return Team.objects(team=team_number)[0]\n",
    "    try:\n",
    "        req = requests.get(f\"https://api.statbotics.io/v3/team_year/{team_number}/2025\")\n",
    "        \n",
    "        team_dict = req.json()\n",
    "        if len(Event.objects(key=event_key)) < 1:\n",
    "            save_event(event_key)\n",
    "        ccwm = Event.objects(key=event_key)[0].oprs[\"ccwms\"][f\"frc{team_number}\"]\n",
    "        opr = Event.objects(key=event_key)[0].oprs[\"oprs\"][f\"frc{team_number}\"]\n",
    "        l3_count = Event.objects(key=event_key)[0].coprs[\"L3 Coral Count\"][f\"frc{team_number}\"]\n",
    "        l4_count = Event.objects(key=event_key)[0].coprs[\"L4 Coral Count\"][f\"frc{team_number}\"]\n",
    "        coral_count = Event.objects(key=event_key)[0].coprs[\"Total Coral Count\"][f\"frc{team_number}\"]\n",
    "        algae_count = Event.objects(key=event_key)[0].coprs[\"Total Algae Count\"][f\"frc{team_number}\"]\n",
    "        team_info = {\n",
    "            \"event\": event_key,\n",
    "            \"team\": team_dict[\"team\"],\n",
    "            \"epa\": team_dict[\"epa\"][\"norm\"],\n",
    "            \"total_points\": team_dict[\"epa\"][\"breakdown\"][\"total_points\"],\n",
    "            \"auto_points\": team_dict[\"epa\"][\"breakdown\"][\"auto_points\"],\n",
    "            \"teleop_points\": team_dict[\"epa\"][\"breakdown\"][\"teleop_points\"],\n",
    "            \"endgame_points\": team_dict[\"epa\"][\"breakdown\"][\"endgame_points\"],\n",
    "            \"rank\": team_dict[\"epa\"][\"ranks\"][\"total\"][\"rank\"],\n",
    "            \"winrate\": team_dict[\"record\"][\"winrate\"],\n",
    "            \"ccwm\": ccwm,\n",
    "            \"opr\": opr,\n",
    "            \"l3_count\": l3_count,\n",
    "            \"l4_count\": l4_count,\n",
    "            \"coral_count\": coral_count,\n",
    "            \"algae_count\": algae_count,\n",
    "            }\n",
    "        team_obj = Team.from_json(str(team_info).replace(\"'\", '\"'))\n",
    "        team_obj.save() \n",
    "        \n",
    "        return team_obj\n",
    "    except requests.ConnectionError as e:\n",
    "        print(f\"Error fetching team: {e}\")\n",
    "        return \"error\"\n",
    "    except KeyError as k:\n",
    "        print(f\"Skipping {team_number}'s matches at {event_key} \")\n",
    "        return \"error\""
   ]
  },
  {
   "cell_type": "code",
   "execution_count": 280,
   "metadata": {},
   "outputs": [
    {
     "name": "stdout",
     "output_type": "stream",
     "text": [
      "Skipping 9992's matches at 2025ncash \n",
      "error\n"
     ]
    }
   ],
   "source": [
    "print(get_team_info(9992, \"2025ncash\"))"
   ]
  },
  {
   "cell_type": "code",
   "execution_count": 105,
   "metadata": {},
   "outputs": [],
   "source": [
    "def get_match_info(match_key: str):\n",
    "    mongo_team: list = Match.objects(key=match_key)\n",
    "    if len(mongo_team) > 0:\n",
    "        return Match.objects(key=match_key)[0]\n",
    "    try:\n",
    "        response = requests.get(\n",
    "            f\"https://www.thebluealliance.com/api/v3/match/{match_key}\",\n",
    "            {\n",
    "                \"X-TBA-Auth-Key\": tba_api_key\n",
    "            }\n",
    "        )\n",
    "        info = response.json()\n",
    "        match = Match()\n",
    "        match.key = match_key\n",
    "        red_info = info[\"alliances\"][\"red\"]\n",
    "        blue_info = info[\"alliances\"][\"blue\"]\n",
    "        match.red_alliance = [get_team_info(int(team[3:]), match_key[:match_key.index(\"_\")]) for team in red_info[\"team_keys\"]]\n",
    "        match.blue_alliance = [get_team_info(int(team[3:]), match_key[:match_key.index(\"_\")]) for team in blue_info[\"team_keys\"]]\n",
    "        \n",
    "        if \"error\" in str(match.red_alliance) or \"error\" in str(match.blue_alliance):\n",
    "            print(f\"Skipping match {match_key} due to team info error.\")\n",
    "            return \"error\"\n",
    "        \n",
    "        match.red_score = red_info[\"score\"]\n",
    "        match.blue_score = blue_info[\"score\"]\n",
    "        # match.save()\n",
    "        return match\n",
    "    except requests.ConnectionError as e:\n",
    "        print(f\"Error fetching match: {match_key}\")\n",
    "        \n",
    "        return \"error\"\n",
    "\n"
   ]
  },
  {
   "cell_type": "code",
   "execution_count": 86,
   "metadata": {},
   "outputs": [
    {
     "name": "stdout",
     "output_type": "stream",
     "text": [
      "True\n"
     ]
    }
   ],
   "source": [
    "print(len(Event.objects(key=\"2025mxto\")) < 1)\n",
    "\n",
    "# botbusters = get_team_info(4403, \"2025mxto\")\n",
    "# print(botbusters)\n",
    "# info = get_match_info(\"2025mxto_qm8\")\n",
    "# print(info)"
   ]
  },
  {
   "cell_type": "code",
   "execution_count": 272,
   "metadata": {},
   "outputs": [],
   "source": [
    "def save_event_matches(event_key: str):\n",
    "    matches = get_events_match_keys(event_key)\n",
    "    for match in matches:\n",
    "        # print(match)\n",
    "        get_match_info(match)\n",
    "    "
   ]
  },
  {
   "cell_type": "code",
   "execution_count": 28,
   "metadata": {},
   "outputs": [
    {
     "name": "stdout",
     "output_type": "stream",
     "text": [
      "8063\n"
     ]
    }
   ],
   "source": [
    "print(len(Match.objects()))"
   ]
  },
  {
   "cell_type": "code",
   "execution_count": null,
   "metadata": {},
   "outputs": [],
   "source": [
    "count = 0\n",
    "for event in Event.objects():\n",
    "    print(event)\n",
    "    save_event_matches(event_key=event.key)\n",
    "    count += 1\n",
    "    print(count)"
   ]
  },
  {
   "cell_type": "code",
   "execution_count": 29,
   "metadata": {},
   "outputs": [],
   "source": [
    "\n",
    "class CompleteMatch(Document):\n",
    "    key = StringField(required=True)\n",
    "    red3_team = IntField(required=True)\n",
    "    red2_team = IntField(required=True)\n",
    "    red1_team = IntField(required=True)\n",
    "    blue3_team = IntField(required=True)\n",
    "    blue2_team = IntField(required=True)\n",
    "    blue1_team = IntField(required=True)\n",
    "    red3_epa = FloatField(required=True)\n",
    "    red2_epa = FloatField(required=True)\n",
    "    red1_epa = FloatField(required=True)\n",
    "    blue3_epa = FloatField(required=True)\n",
    "    blue2_epa = FloatField(required=True)\n",
    "    blue1_epa = FloatField(required=True)\n",
    "    red3_total_points = FloatField(required=True)\n",
    "    red2_total_points = FloatField(required=True)\n",
    "    red1_total_points = FloatField(required=True)\n",
    "    blue3_total_points = FloatField(required=True)\n",
    "    blue2_total_points = FloatField(required=True)\n",
    "    blue1_total_points = FloatField(required=True)\n",
    "    red3_auto_points = FloatField(required=True)\n",
    "    red2_auto_points = FloatField(required=True)\n",
    "    red1_auto_points = FloatField(required=True)\n",
    "    blue3_auto_points = FloatField(required=True)\n",
    "    blue2_auto_points = FloatField(required=True)\n",
    "    blue1_auto_points = FloatField(required=True)\n",
    "    red3_teleop_points = FloatField(required=True)\n",
    "    red2_teleop_points = FloatField(required=True)\n",
    "    red1_teleop_points = FloatField(required=True)\n",
    "    blue3_teleop_points = FloatField(required=True)\n",
    "    blue2_teleop_points = FloatField(required=True)\n",
    "    blue1_teleop_points = FloatField(required=True)\n",
    "    red3_endgame_points = FloatField(required=True)\n",
    "    red2_endgame_points = FloatField(required=True)\n",
    "    red1_endgame_points = FloatField(required=True)\n",
    "    blue3_endgame_points = FloatField(required=True)\n",
    "    blue2_endgame_points = FloatField(required=True)\n",
    "    blue1_endgame_points = FloatField(required=True)\n",
    "    red3_rank = IntField(required=True)\n",
    "    red2_rank = IntField(required=True)\n",
    "    red1_rank = IntField(required=True)\n",
    "    blue3_rank = IntField(required=True)\n",
    "    blue2_rank = IntField(required=True)\n",
    "    blue1_rank = IntField(required=True)\n",
    "    red3_winrate = FloatField(required=True)\n",
    "    red2_winrate = FloatField(required=True)\n",
    "    red1_winrate = FloatField(required=True)\n",
    "    blue3_winrate = FloatField(required=True)\n",
    "    blue2_winrate = FloatField(required=True)\n",
    "    blue1_winrate = FloatField(required=True)\n",
    "    red3_coral_count = FloatField()\n",
    "    red2_coral_count = FloatField()\n",
    "    red1_coral_count = FloatField()\n",
    "    blue3_coral_count = FloatField()\n",
    "    blue2_coral_count = FloatField()\n",
    "    blue1_coral_count = FloatField()\n",
    "    red3_l4_count = FloatField()\n",
    "    red2_l4_count = FloatField()\n",
    "    red1_l4_count = FloatField()\n",
    "    blue3_l4_count = FloatField()\n",
    "    blue2_l4_count = FloatField()\n",
    "    blue1_l4_count = FloatField()\n",
    "    red3_l3_count = FloatField()\n",
    "    red2_l3_count = FloatField()\n",
    "    red1_l3_count = FloatField()\n",
    "    blue3_l3_count = FloatField()\n",
    "    blue2_l3_count = FloatField()\n",
    "    blue1_l3_count = FloatField()\n",
    "    red3_algae_count = FloatField()\n",
    "    red2_algae_count = FloatField()\n",
    "    red1_algae_count = FloatField()\n",
    "    blue3_algae_count = FloatField()\n",
    "    blue2_algae_count = FloatField()\n",
    "    blue1_algae_count = FloatField()\n",
    "    red3_opr = FloatField()\n",
    "    red2_opr = FloatField()\n",
    "    red1_opr = FloatField()\n",
    "    blue3_opr = FloatField()\n",
    "    blue2_opr = FloatField()\n",
    "    blue1_opr = FloatField()\n",
    "    red3_ccwm = FloatField()\n",
    "    red2_ccwm = FloatField()\n",
    "    red1_ccwm = FloatField()\n",
    "    blue3_ccwm = FloatField()\n",
    "    blue2_ccwm = FloatField()\n",
    "    blue1_ccwm = FloatField()\n",
    "    red_score = FloatField()\n",
    "    blue_score = FloatField()\n",
    "    def __str__(self):\n",
    "        return (\n",
    "            f\"Match {self.key}: \"\n",
    "            f\"Red {self.red1_team}, {self.red2_team}, {self.red3_team} ({self.red_score}) - \"\n",
    "            f\"Blue {self.blue1_team}, {self.blue2_team}, {self.blue3_team} ({self.blue_score})\"\n",
    "        )"
   ]
  },
  {
   "cell_type": "code",
   "execution_count": 102,
   "metadata": {},
   "outputs": [],
   "source": [
    "\n",
    "def convert_match_to_complete(match_obj: Match):\n",
    "    \"\"\"Convierte un match de la base de datos en una instancia de CompleteMatch con datos embebidos.\"\"\"\n",
    "    \n",
    "    match_data = {\n",
    "        \"key\": match_obj.key,\n",
    "        \"blue_score\": match_obj.blue_score,\n",
    "        \"red_score\": match_obj.red_score,\n",
    "    }\n",
    "\n",
    "    for color in [\"red\", \"blue\"]:\n",
    "        for pos in range(1, 4): \n",
    "            team_ref: Team = match_obj.blue_alliance[pos-1]\n",
    "            team_data: Team = Team.objects(team=team_ref.team)[0]\n",
    "\n",
    "            match_data[f\"{color}{pos}_team\"] = team_ref.team\n",
    "            match_data[f\"{color}{pos}_epa\"] = team_data.epa\n",
    "            match_data[f\"{color}{pos}_total_points\"] = team_data.total_points\n",
    "            match_data[f\"{color}{pos}_auto_points\"] = team_data.auto_points\n",
    "            match_data[f\"{color}{pos}_teleop_points\"] = team_data.teleop_points\n",
    "            match_data[f\"{color}{pos}_endgame_points\"] = team_data.endgame_points\n",
    "            match_data[f\"{color}{pos}_rank\"] = team_data.rank\n",
    "            match_data[f\"{color}{pos}_winrate\"] = team_data.winrate\n",
    "            match_data[f\"{color}{pos}_coral_count\"] = team_data.coral_count\n",
    "            match_data[f\"{color}{pos}_l4_count\"] = team_data.l4_count\n",
    "            match_data[f\"{color}{pos}_l3_count\"] = team_data.l3_count\n",
    "            match_data[f\"{color}{pos}_algae_count\"] = team_data.algae_count\n",
    "            match_data[f\"{color}{pos}_opr\"] = team_data.opr\n",
    "            match_data[f\"{color}{pos}_ccwm\"] = team_data.ccwm\n",
    "            \n",
    "    # print(match_data)\n",
    "    final_match = CompleteMatch(**match_data)\n",
    "    final_match.save()\n",
    "    return final_match"
   ]
  },
  {
   "cell_type": "code",
   "execution_count": null,
   "metadata": {},
   "outputs": [],
   "source": [
    "count = 0\n",
    "for match in Match.objects():\n",
    "    convert_match_to_complete(match)\n",
    "    count += 1\n",
    "    print(count, match.key)\n"
   ]
  },
  {
   "cell_type": "code",
   "execution_count": 298,
   "metadata": {},
   "outputs": [
    {
     "name": "stdout",
     "output_type": "stream",
     "text": [
      "8063\n"
     ]
    }
   ],
   "source": [
    "print(len(CompleteMatch.objects()))"
   ]
  },
  {
   "cell_type": "code",
   "execution_count": 119,
   "metadata": {},
   "outputs": [],
   "source": [
    "def get_match_series(match_key: str) -> pd.Series:\n",
    "   \n",
    "    # Primero, obtener el CompleteMatch para el match_key dado.\n",
    "    complete_matches = CompleteMatch.objects(key=match_key)\n",
    "    if len(complete_matches) > 0:\n",
    "        complete_match = complete_matches[0]\n",
    "    else:\n",
    "        match_obj = get_match_info(match_key)\n",
    "        print(match_obj)\n",
    "        if match_obj == \"error\":\n",
    "            raise ValueError(f\"Error al obtener el match con key {match_key}\")\n",
    "        complete_match = convert_match_to_complete(match_obj)\n",
    "        complete_match = CompleteMatch.objects(key=match_key)[0]\n",
    "    \n",
    "    # Extraer los datos del objeto (se asume que se guardaron en _data)\n",
    "    match_dict = complete_match._data.copy()\n",
    "    if '_id' in match_dict:\n",
    "        del match_dict['_id']\n",
    "    \n",
    "    # Definir el orden deseado de columnas:\n",
    "    columns_order = [\n",
    "        \"red3_epa\", \"red2_epa\", \"red1_epa\",\n",
    "        \"blue3_epa\", \"blue2_epa\", \"blue1_epa\",\n",
    "        \"red3_total_points\", \"red2_total_points\", \"red1_total_points\",\n",
    "        \"blue3_total_points\", \"blue2_total_points\", \"blue1_total_points\",\n",
    "        \"red3_auto_points\", \"red2_auto_points\", \"red1_auto_points\",\n",
    "        \"blue3_auto_points\", \"blue2_auto_points\", \"blue1_auto_points\",\n",
    "        \"red3_teleop_points\", \"red2_teleop_points\", \"red1_teleop_points\",\n",
    "        \"blue3_teleop_points\", \"blue2_teleop_points\", \"blue1_teleop_points\",\n",
    "        \"red3_endgame_points\", \"red2_endgame_points\", \"red1_endgame_points\",\n",
    "        \"blue3_endgame_points\", \"blue2_endgame_points\", \"blue1_endgame_points\",\n",
    "        \"red3_rank\", \"red2_rank\", \"red1_rank\",\n",
    "        \"blue3_rank\", \"blue2_rank\", \"blue1_rank\",\n",
    "        \"red3_winrate\", \"red2_winrate\", \"red1_winrate\",\n",
    "        \"blue3_winrate\", \"blue2_winrate\", \"blue1_winrate\",\n",
    "        \"red3_coral_count\", \"red2_coral_count\", \"red1_coral_count\",\n",
    "        \"blue3_coral_count\", \"blue2_coral_count\", \"blue1_coral_count\",\n",
    "        \"red3_l4_count\", \"red2_l4_count\", \"red1_l4_count\",\n",
    "        \"blue3_l4_count\", \"blue2_l4_count\", \"blue1_l4_count\",\n",
    "        \"red3_l3_count\", \"red2_l3_count\", \"red1_l3_count\",\n",
    "        \"blue3_l3_count\", \"blue2_l3_count\", \"blue1_l3_count\",\n",
    "        \"red3_algae_count\", \"red2_algae_count\", \"red1_algae_count\",\n",
    "        \"blue3_algae_count\", \"blue2_algae_count\", \"blue1_algae_count\",\n",
    "        \"red3_opr\", \"red2_opr\", \"red1_opr\",\n",
    "        \"blue3_opr\", \"blue2_opr\", \"blue1_opr\",\n",
    "        \"red3_ccwm\", \"red2_ccwm\", \"red1_ccwm\",\n",
    "        \"blue3_ccwm\", \"blue2_ccwm\", \"blue1_ccwm\",\n",
    "        \"red_score\", \"blue_score\"\n",
    "    ]\n",
    "    \n",
    "    # Crear un diccionario ordenado según la lista deseada.\n",
    "    ordered_dict = {col: match_dict[col] for col in columns_order if col in match_dict}\n",
    "    \n",
    "    # Convertir a pandas Series.\n",
    "    match_series = pd.Series(ordered_dict)\n",
    "    return match_series\n"
   ]
  },
  {
   "cell_type": "code",
   "execution_count": 75,
   "metadata": {},
   "outputs": [
    {
     "name": "stdout",
     "output_type": "stream",
     "text": [
      "red3_epa      1469.000000\n",
      "red2_epa      1514.000000\n",
      "red1_epa      1724.000000\n",
      "blue3_epa     1469.000000\n",
      "blue2_epa     1514.000000\n",
      "                 ...     \n",
      "blue3_ccwm     -10.713549\n",
      "blue2_ccwm     -10.150860\n",
      "blue1_ccwm      20.894840\n",
      "red_score       68.000000\n",
      "blue_score      99.000000\n",
      "Length: 80, dtype: float64\n"
     ]
    }
   ],
   "source": [
    "h = get_match_series(\"2025mxle_qm1\")\n",
    "print(h)"
   ]
  },
  {
   "cell_type": "code",
   "execution_count": 60,
   "metadata": {},
   "outputs": [
    {
     "name": "stdout",
     "output_type": "stream",
     "text": [
      "mps\n"
     ]
    }
   ],
   "source": [
    "import torch\n",
    "import torch.nn as nn\n",
    "from torch.optim import Adam\n",
    "from torch.utils.data import Dataset, DataLoader\n",
    "from torchsummary import summary\n",
    "from sklearn.model_selection import train_test_split\n",
    "from sklearn.metrics import accuracy_score\n",
    "from sklearn.preprocessing import StandardScaler\n",
    "import matplotlib.pyplot as plt\n",
    "import pandas as pd\n",
    "import numpy as np\n",
    "from sklearn.metrics import mean_absolute_error, r2_score\n",
    "\n",
    "\n",
    "device = 'mps' if torch.mps.is_available() else 'cpu'\n",
    "print(device)"
   ]
  },
  {
   "cell_type": "code",
   "execution_count": 61,
   "metadata": {},
   "outputs": [],
   "source": [
    "class MyNet(nn.Module):\n",
    "    def __init__(self, input_dim):\n",
    "        super().__init__()\n",
    "        \n",
    "        self.model = nn.Sequential(\n",
    "            nn.Linear(input_dim, 128),\n",
    "            nn.ReLU(),\n",
    "            nn.Linear(128, 256),\n",
    "            nn.ReLU(),\n",
    "            nn.Linear(256, 512),\n",
    "            nn.ReLU(),\n",
    "            nn.Linear(512, 1024),\n",
    "            nn.ReLU(),\n",
    "            nn.Dropout(0.1),\n",
    "            nn.Linear(1024, 512),\n",
    "            nn.ReLU(),\n",
    "            nn.Linear(512, 256),\n",
    "            nn.ReLU(),\n",
    "            nn.Linear(256, 128),\n",
    "            nn.ReLU(),\n",
    "            nn.Linear(128, 64),\n",
    "            nn.ReLU(),\n",
    "            nn.Linear(64, 32),\n",
    "            nn.ReLU(),\n",
    "            nn.Linear(32, 2) \n",
    "        )\n",
    "\n",
    "    def forward(self, x):\n",
    "        return self.model(x)\n"
   ]
  },
  {
   "cell_type": "code",
   "execution_count": 63,
   "metadata": {},
   "outputs": [
    {
     "data": {
      "text/plain": [
       "<All keys matched successfully>"
      ]
     },
     "execution_count": 63,
     "metadata": {},
     "output_type": "execute_result"
    }
   ],
   "source": [
    "model = MyNet(78).to(device)\n",
    "model.load_state_dict(torch.load(\"second_iteration/model.pt\"))"
   ]
  },
  {
   "cell_type": "code",
   "execution_count": 120,
   "metadata": {},
   "outputs": [],
   "source": [
    "def inferencia(fila, model, scaler, threshold=5.0):\n",
    "   \n",
    "\n",
    "    features = fila.drop(labels=[\"blue_score\", \"red_score\"]).values.reshape(1, -1)\n",
    "\n",
    "    features_scaled = scaler.transform(features)\n",
    "\n",
    "    tensor_features = torch.tensor(features_scaled, dtype=torch.float32).to(device)\n",
    "\n",
    "    model.eval()\n",
    "    with torch.no_grad():\n",
    "        prediction = model(tensor_features)\n",
    "\n",
    "    predicted_scores = prediction.cpu().numpy().flatten()\n",
    "\n",
    "    true_scores = fila[[\"blue_score\", \"red_score\"]].values.astype(np.float32)\n",
    "\n",
    "    error_abs = np.abs(true_scores - predicted_scores)\n",
    "\n",
    "    accuracy = 100.0 if (error_abs < threshold).all() else 0.0\n",
    "\n",
    "    actual_winner = \"blue\" if true_scores[0] > true_scores[1] else \"red\"\n",
    "    \n",
    "    pred_winner = \"blue\" if predicted_scores[0] > predicted_scores[1] else \"red\"\n",
    "    print(\n",
    "        f\"Predicción -> blue_score: {predicted_scores[0]:.2f}, red_score: {predicted_scores[1]:.2f}\"\n",
    "    )\n",
    "    print(\n",
    "        f\"Valor real -> blue_score: {true_scores[0]:.2f}, red_score: {true_scores[1]:.2f}\"\n",
    "    )\n",
    "    \n",
    "    print(\"Win prediction was\", actual_winner == pred_winner)\n",
    "    return actual_winner == pred_winner"
   ]
  },
  {
   "cell_type": "code",
   "execution_count": 77,
   "metadata": {},
   "outputs": [],
   "source": [
    "data_df = pd.read_csv(\"second_iteration/clean_data.csv\")\n",
    "data_df.dropna(inplace=True)\n",
    "original_df = data_df.copy()\n",
    "\n",
    "x = data_df.drop([\"blue_score\", \"red_score\"], axis=1).values\n",
    "y = data_df[[\"blue_score\", \"red_score\"]].values\n",
    "\n",
    "x_train, x_test, y_train, y_test = train_test_split(x, y, test_size=0.15,)\n",
    "\n",
    "scaler = StandardScaler()\n",
    "x_train = scaler.fit_transform(x_train)\n",
    "x_test = scaler.fit_transform(x_test)\n"
   ]
  },
  {
   "cell_type": "code",
   "execution_count": 121,
   "metadata": {},
   "outputs": [
    {
     "name": "stdout",
     "output_type": "stream",
     "text": [
      "Predicción -> blue_score: 22.53, red_score: 43.85\n",
      "Valor real -> blue_score: -1.00, red_score: -1.00\n",
      "Win prediction was True\n"
     ]
    },
    {
     "data": {
      "text/plain": [
       "True"
      ]
     },
     "execution_count": 121,
     "metadata": {},
     "output_type": "execute_result"
    }
   ],
   "source": [
    "matchh = get_match_series(\"2025mxto_qm31\")\n",
    "\n",
    "# print(matchh)\n",
    "inferencia(matchh, model, scaler)"
   ]
  },
  {
   "cell_type": "code",
   "execution_count": 112,
   "metadata": {},
   "outputs": [],
   "source": [
    "for match in CompleteMatch.objects():\n",
    "    if \"2025mxto\" in str(match.key):\n",
    "        match.delete()"
   ]
  }
 ],
 "metadata": {
  "kernelspec": {
   "display_name": ".venv",
   "language": "python",
   "name": "python3"
  },
  "language_info": {
   "codemirror_mode": {
    "name": "ipython",
    "version": 3
   },
   "file_extension": ".py",
   "mimetype": "text/x-python",
   "name": "python",
   "nbconvert_exporter": "python",
   "pygments_lexer": "ipython3",
   "version": "3.11.10"
  }
 },
 "nbformat": 4,
 "nbformat_minor": 2
}
